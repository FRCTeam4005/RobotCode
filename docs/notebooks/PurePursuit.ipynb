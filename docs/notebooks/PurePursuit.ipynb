{
 "cells": [
  {
   "cell_type": "code",
   "execution_count": 1,
   "metadata": {},
   "outputs": [
    {
     "name": "stdout",
     "output_type": "stream",
     "text": [
      "0.0  cm\n",
      "0.0  in\n",
      "0.0  ft\n"
     ]
    }
   ],
   "source": [
    "exampleCounts = 0\n",
    "FR_Count = exampleCounts\n",
    "FL_Count = exampleCounts\n",
    "BR_Count = exampleCounts\n",
    "BL_Count = exampleCounts\n",
    "\n",
    "CountsPerCM = 421\n",
    "\n",
    "Distcm = ((FR_Count + FL_Count + BR_Count + BL_Count) / 4) / CountsPerCM\n",
    "\n",
    "print(round(Distcm, 2), \" cm\")\n",
    "print(round(Distcm/2.54, 2), \" in\")\n",
    "print(round((Distcm/2.54)/12, 2), \" ft\")\n"
   ]
  },
  {
   "cell_type": "code",
   "execution_count": 5,
   "metadata": {},
   "outputs": [
    {
     "name": "stdout",
     "output_type": "stream",
     "text": [
      "0.0  ,  0.0\n"
     ]
    }
   ],
   "source": [
    "import numpy as np\n",
    "PigeonAngle = 0\n",
    "\n",
    "xLoc = Distcm * np.cos(PigeonAngle)\n",
    "yLoc = Distcm * np.sin(PigeonAngle)\n",
    "\n",
    "print(round(xLoc,2), \", \", round(yLoc,2))"
   ]
  },
  {
   "cell_type": "code",
   "execution_count": 42,
   "metadata": {},
   "outputs": [
    {
     "data": {
      "image/png": "[encoded data removed]",
      "text/plain": [
       "<Figure size 432x288 with 1 Axes>"
      ]
     },
     "metadata": {
      "needs_background": "light"
     },
     "output_type": "display_data"
    }
   ],
   "source": [
    "from matplotlib import pyplot as plt\n",
    "import numpy as np\n",
    "from matplotlib import ticker as tkr\n",
    "import pint\n",
    "\n",
    "ureg = pint.UnitRegistry()\n",
    "ureg.setup_matplotlib(True)\n",
    "\n",
    "x = np.array([\n",
    "    30, 30, 30, 30, \n",
    "    60, 60, \n",
    "    90, 90, 90, 90, 90,\n",
    "    120, 120, 120, 120,\n",
    "    150, 150,\n",
    "    180, 180, 180, 180,\n",
    "    210, 210, 210, 210,\n",
    "    240, 240, 240, 240,\n",
    "    270, 270, 270, 270, 270,\n",
    "    300, 300, 300, 300,\n",
    "    330, 330\n",
    "])\n",
    "y = np.array([\n",
    "    150, 120, 60, 30, \n",
    "    120, 60, \n",
    "    150, 120, 90, 60, 30,\n",
    "    150, 120, 60, 30,\n",
    "    120, 60,\n",
    "    150, 120, 60, 30,\n",
    "    150, 120, 60, 30,\n",
    "    150, 120, 60, 30,\n",
    "    150, 120, 90, 60, 30,\n",
    "    150, 120, 60, 30,\n",
    "    120, 60\n",
    "])\n",
    "txt = [\n",
    "    \"A1\", \"B1\", \"D1\", \"E1\", \n",
    "    \"B2\", \"D2\", \n",
    "    \"A3\", \"B3\", \"C3\", \"D3\", \"E3\"\n",
    "    \"A4\", \"B4\", \"D4\", \"E4\",\n",
    "    \"B5\", \"D5\",\n",
    "    \"A6\", \"B6\", \"D6\", \"E6\",\n",
    "    \"A7\", \"B7\", \"D7\", \"E7\",\n",
    "    \"A8\", \"B8\", \"D8\", \"E8\",\n",
    "    \"A9\", \"B9\", \"C9\", \"D9\", \"E9\",\n",
    "    \"A10\", \"B10\", \"D10\", \"E10\",\n",
    "    \"B11\", \"D11\"\n",
    "]\n",
    "\n",
    "fig, ax = plt.subplots()\n",
    "plt.xlim((0,360))\n",
    "plt.ylim((0,180))\n",
    "ax.yaxis.set_units(ureg.inches)\n",
    "ax.xaxis.set_units(ureg.inches)\n",
    "ax.plot(x,y, \"or\")\n",
    "for i, label in enumerate(txt):\n",
    "    ax.text(x[i], y[i], txt[i])\n",
    "plt.show()"
   ]
  },
  {
   "cell_type": "markdown",
   "metadata": {},
   "source": [
    "https://github.com/KHEngineering/SmoothPathPlanner/blob/11059aa2ec314ba20b364aeea3c968aca2672b49/src/usfirst/frc/team2168/robot/FalconPathPlanner.java#L614\n"
   ]
  },
  {
   "cell_type": "code",
   "execution_count": null,
   "metadata": {},
   "outputs": [],
   "source": []
  },
  {
   "cell_type": "code",
   "execution_count": null,
   "metadata": {},
   "outputs": [],
   "source": []
  }
 ],
 "metadata": {
  "kernelspec": {
   "display_name": "Python 3",
   "language": "python",
   "name": "python3"
  },
  "language_info": {
   "codemirror_mode": {
    "name": "ipython",
    "version": 3
   },
   "file_extension": ".py",
   "mimetype": "text/x-python",
   "name": "python",
   "nbconvert_exporter": "python",
   "pygments_lexer": "ipython3",
   "version": "3.8.5"
  }
 },
 "nbformat": 4,
 "nbformat_minor": 4
}
